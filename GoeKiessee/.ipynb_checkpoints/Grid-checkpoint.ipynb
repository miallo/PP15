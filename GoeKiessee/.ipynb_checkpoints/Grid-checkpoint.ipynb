{
 "metadata": {
  "name": "",
  "signature": "sha256:2945e67afb775f9da2c7616c7f4baeea3cc3e935a9c1f724e14b604fb55d9bff"
 },
 "nbformat": 3,
 "nbformat_minor": 0,
 "worksheets": [
  {
   "cells": [
    {
     "cell_type": "code",
     "collapsed": false,
     "input": [
      "import random\n",
      "import numpy as np\n",
      "from __future__ import print_function\n",
      "import math"
     ],
     "language": "python",
     "metadata": {},
     "outputs": [],
     "prompt_number": 60
    },
    {
     "cell_type": "code",
     "collapsed": false,
     "input": [
      "with open( \"superTiefe.csv\", \"r\" ) as mergeData:\n",
      "     allData = [line.strip().split('\\t') for line in mergeData]\n",
      "allData = [[float(first), float(second), float(third)] for first,second,third in allData]\n",
      "print(allData)"
     ],
     "language": "python",
     "metadata": {},
     "outputs": [
      {
       "output_type": "stream",
       "stream": "stdout",
       "text": [
        "[[159.7, 457.8, 1.22], [184.4, 443.2, 1.13], [205.5, 366.0, 1.27], [145.4, 341.7, 1.32], [172.3, 322.0, 1.23], [105.2, 255.5, 1.64], [168.2, 239.9, 1.31], [66.4, 220.6, 1.43], [121.9, 207.4, 1.46], [109.4, 199.9, 1.49], [175.9, 183.4, 1.51], [115.6, 129.1, 1.63], [93.7, 118.0, 1.49], [145.1, 113.9, 1.48], [39.3, 107.4, 1.43], [120.2, 103.7, 1.67], [61.2, 59.3, 1.56], [91.4, 57.9, 1.6], [128.6, 29.2, 1.52], [87.0, 17.2, 1.72], [184.6, 16.8, 1.89], [48.9, 13.1, 1.66], [32.3, 2.3, 1.58], [20.0, -45.0, 1.47], [54.2, -46.18, 1.62], [130.1, -46.2, 1.78], [50.4, -46.8, 1.7], [102.1, -51.9, 1.72], [33.4, -54.7, 1.52], [21.9, -55.3, 1.44], [194.3, -58.3, 1.92], [53.7, -72.2, 1.62], [34.26, -72.8, 1.51], [49.18, -72.88, 1.73], [67.9, -73.6, 1.8], [139.1, -79.4, 1.91], [96.9, -88.2, 1.9], [125.4, -88.5, 1.94], [167.7, -89.7, 2.17], [84.1, -95.9, 0.98], [197.5, -96.3, 2.04], [116.7, -98.8, 1.94], [155.96, -112.49, 1.94], [191.12, -118.91, 1.99]]\n"
       ]
      }
     ],
     "prompt_number": 57
    },
    {
     "cell_type": "code",
     "collapsed": false,
     "input": [
      "xmin=10\n",
      "xmax=220\n",
      "ymin=-200\n",
      "ymax=500\n",
      "\n",
      "size=2\n",
      "radius=10\n",
      "\n",
      "grid = []\n",
      "for i in range(0, (xmax-xmin)/size):\n",
      "    grid.append([])\n",
      "    for j in range(0, (ymax-ymin)/size):\n",
      "        grid[i].append([xmin+i*size,ymin+j*size,0.0,0.0])\n",
      "        #print grid[i][j]"
     ],
     "language": "python",
     "metadata": {},
     "outputs": [],
     "prompt_number": 78
    },
    {
     "cell_type": "code",
     "collapsed": false,
     "input": [
      "def dist(x1,y1,x2,y2):\n",
      "    return math.sqrt((x1-x2)**2+(y1-y2)**2)"
     ],
     "language": "python",
     "metadata": {},
     "outputs": [],
     "prompt_number": 64
    },
    {
     "cell_type": "code",
     "collapsed": false,
     "input": [
      "for i in range(len(grid)):\n",
      "    for j in range(len(grid[i])):\n",
      "        for k in range(len(allData)):\n",
      "            if(dist(grid[i][j][0],grid[i][j][1],allData[k][0],allData[k][1])<=radius):\n",
      "                grid[i][j][2]+=allData[k][2]\n",
      "                grid[i][j][3]+=1.0"
     ],
     "language": "python",
     "metadata": {},
     "outputs": [],
     "prompt_number": 79
    },
    {
     "cell_type": "code",
     "collapsed": false,
     "input": [
      "f1=open('./test.txt', 'w+')\n",
      "for i in range(len(grid)):\n",
      "    for j in range(len(grid[i])):\n",
      "        if(grid[i][j][2]!=0.0):\n",
      "            grid[i][j][2]/=grid[i][j][3]\n",
      "        print(grid[i][j][0],grid[i][j][1],grid[i][j][2],file=f1)\n",
      "    print(\"\",file=f1)\n",
      "f1.close()"
     ],
     "language": "python",
     "metadata": {},
     "outputs": [],
     "prompt_number": 80
    }
   ],
   "metadata": {}
  }
 ]
}